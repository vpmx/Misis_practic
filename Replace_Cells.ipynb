{
  "nbformat": 4,
  "nbformat_minor": 0,
  "metadata": {
    "colab": {
      "name": "Replace_Cells.ipynb",
      "provenance": [],
      "collapsed_sections": []
    },
    "kernelspec": {
      "name": "python3",
      "display_name": "Python 3"
    },
    "language_info": {
      "name": "python"
    }
  },
  "cells": [
    {
      "cell_type": "code",
      "execution_count": 21,
      "metadata": {
        "id": "A1VhR5sF3Ogw"
      },
      "outputs": [],
      "source": [
        "import pandas as pd\n",
        "import numpy as np"
      ]
    },
    {
      "cell_type": "code",
      "source": [
        "from google.colab import drive \n",
        "drive.mount('/content/gdrive')"
      ],
      "metadata": {
        "colab": {
          "base_uri": "https://localhost:8080/"
        },
        "id": "ylXXMtpa3TwN",
        "outputId": "5c0d7758-9f45-4f77-e118-43fc3c116fb5"
      },
      "execution_count": 2,
      "outputs": [
        {
          "output_type": "stream",
          "name": "stdout",
          "text": [
            "Mounted at /content/gdrive\n"
          ]
        }
      ]
    },
    {
      "cell_type": "code",
      "source": [
        "xl = pd.ExcelFile('/content/gdrive/MyDrive/12- по времени с 22 дек.xlsx') # Здесь меняем название файла, для других файлов\n",
        "xl.sheet_names # Смотрим как называется лист, в котором расположены данные"
      ],
      "metadata": {
        "colab": {
          "base_uri": "https://localhost:8080/"
        },
        "id": "pEpYGxR03tKn",
        "outputId": "375f2c9b-93a5-4c66-c3f2-20999c3434dd"
      },
      "execution_count": 3,
      "outputs": [
        {
          "output_type": "execute_result",
          "data": {
            "text/plain": [
              "['Лист1']"
            ]
          },
          "metadata": {},
          "execution_count": 3
        }
      ]
    },
    {
      "cell_type": "code",
      "source": [
        "df = xl.parse('Лист1') # Переформатируем файл эксель в датафрейм\n",
        "df.head # Смотрим что получилось"
      ],
      "metadata": {
        "colab": {
          "base_uri": "https://localhost:8080/"
        },
        "id": "qUHel8Qt5N01",
        "outputId": "b1ccdf57-e087-4fc4-823c-cb29f4b681cc"
      },
      "execution_count": 4,
      "outputs": [
        {
          "output_type": "execute_result",
          "data": {
            "text/plain": [
              "<bound method NDFrame.head of              Дата и Время Глубина Вес на крюке Высота крюка Скорость СПО  \\\n",
              "0       MON DD YEAR HH:MM       m       tonnes            m        m/min   \n",
              "1       Dec 22 2020 20:00  3141.7            0         2.02            0   \n",
              "2       Dec 22 2020 20:00  3141.7            0         2.02            0   \n",
              "3       Dec 22 2020 20:00  3141.7            0         2.02            0   \n",
              "4       Dec 22 2020 20:00  3141.7            0         2.02            0   \n",
              "...                   ...     ...          ...          ...          ...   \n",
              "137573  Dec 24 2020 10:12  3141.7            0         1.53            0   \n",
              "137574  Dec 24 2020 10:12  3141.7            0         1.53            0   \n",
              "137575  Dec 24 2020 10:12  3141.7            0         1.53            0   \n",
              "137576  Dec 24 2020 10:12  3141.7            0         1.53            0   \n",
              "137577  Dec 24 2020 10:12  3141.7            0         1.53            0   \n",
              "\n",
              "       Нагр.на дол Момент на роторе Глубина долота  Обороты Давление  ...  \\\n",
              "0           tonnes              KNm              m      NaN   Kg/cm2  ...   \n",
              "1                0                0         207.84      0.0        0  ...   \n",
              "2                0                0         207.84      0.0        0  ...   \n",
              "3                0                0         207.84      0.0        0  ...   \n",
              "4                0                0         207.84      0.0        0  ...   \n",
              "...            ...              ...            ...      ...      ...  ...   \n",
              "137573           0           0.0141              0      0.0        0  ...   \n",
              "137574           0           0.0141              0      0.0        0  ...   \n",
              "137575           0           0.0141              0      0.0        0  ...   \n",
              "137576           0           0.0141              0      0.0        0  ...   \n",
              "137577           0           0.0141              0      0.0        0  ...   \n",
              "\n",
              "       Pit 8 Сумм. актив ёмк.      С1      С2      С3     iC4     nC4     iC5  \\\n",
              "0         m3               m3       %       %       %       %       %       %   \n",
              "1          0            4.667 -999.25 -999.25 -999.25 -999.25 -999.25 -999.25   \n",
              "2          0            4.662 -999.25 -999.25 -999.25 -999.25 -999.25 -999.25   \n",
              "3          0            4.658 -999.25 -999.25 -999.25 -999.25 -999.25 -999.25   \n",
              "4          0            4.676 -999.25 -999.25 -999.25 -999.25 -999.25 -999.25   \n",
              "...      ...              ...     ...     ...     ...     ...     ...     ...   \n",
              "137573     0              8.5 -999.25 -999.25 -999.25 -999.25 -999.25 -999.25   \n",
              "137574     0            8.548 -999.25 -999.25 -999.25 -999.25 -999.25 -999.25   \n",
              "137575     0            8.525 -999.25 -999.25 -999.25 -999.25 -999.25 -999.25   \n",
              "137576     0             8.56 -999.25 -999.25 -999.25 -999.25 -999.25 -999.25   \n",
              "137577     0             8.62 -999.25 -999.25 -999.25 -999.25 -999.25 -999.25   \n",
              "\n",
              "           nC5 Сумм.газ.хромат  \n",
              "0            %               %  \n",
              "1      -999.25         -999.25  \n",
              "2      -999.25         -999.25  \n",
              "3      -999.25         -999.25  \n",
              "4      -999.25         -999.25  \n",
              "...        ...             ...  \n",
              "137573 -999.25         -999.25  \n",
              "137574 -999.25         -999.25  \n",
              "137575 -999.25         -999.25  \n",
              "137576 -999.25         -999.25  \n",
              "137577 -999.25         -999.25  \n",
              "\n",
              "[137578 rows x 37 columns]>"
            ]
          },
          "metadata": {},
          "execution_count": 4
        }
      ]
    },
    {
      "cell_type": "code",
      "source": [
        "df = df.replace(0,'NAN',regex=True).astype(str)\n",
        "df = df.replace('-999.25','NAN',regex=True).astype(str) # Заменяем на \"NAN\" все нули и \"-999.25\"\n",
        "df[:3] # Смотрим, что получилось"
      ],
      "metadata": {
        "colab": {
          "base_uri": "https://localhost:8080/",
          "height": 286
        },
        "id": "7At_UdqS7U_f",
        "outputId": "c46e1180-47a4-46f0-c3c5-62e36d415008"
      },
      "execution_count": 5,
      "outputs": [
        {
          "output_type": "execute_result",
          "data": {
            "text/html": [
              "\n",
              "  <div id=\"df-3c098f46-5a65-4693-b85b-bb59b8a26382\">\n",
              "    <div class=\"colab-df-container\">\n",
              "      <div>\n",
              "<style scoped>\n",
              "    .dataframe tbody tr th:only-of-type {\n",
              "        vertical-align: middle;\n",
              "    }\n",
              "\n",
              "    .dataframe tbody tr th {\n",
              "        vertical-align: top;\n",
              "    }\n",
              "\n",
              "    .dataframe thead th {\n",
              "        text-align: right;\n",
              "    }\n",
              "</style>\n",
              "<table border=\"1\" class=\"dataframe\">\n",
              "  <thead>\n",
              "    <tr style=\"text-align: right;\">\n",
              "      <th></th>\n",
              "      <th>Дата и Время</th>\n",
              "      <th>Глубина</th>\n",
              "      <th>Вес на крюке</th>\n",
              "      <th>Высота крюка</th>\n",
              "      <th>Скорость СПО</th>\n",
              "      <th>Нагр.на дол</th>\n",
              "      <th>Момент на роторе</th>\n",
              "      <th>Глубина долота</th>\n",
              "      <th>Обороты</th>\n",
              "      <th>Давление</th>\n",
              "      <th>...</th>\n",
              "      <th>Pit 8</th>\n",
              "      <th>Сумм. актив ёмк.</th>\n",
              "      <th>С1</th>\n",
              "      <th>С2</th>\n",
              "      <th>С3</th>\n",
              "      <th>iC4</th>\n",
              "      <th>nC4</th>\n",
              "      <th>iC5</th>\n",
              "      <th>nC5</th>\n",
              "      <th>Сумм.газ.хромат</th>\n",
              "    </tr>\n",
              "  </thead>\n",
              "  <tbody>\n",
              "    <tr>\n",
              "      <th>0</th>\n",
              "      <td>MON DD YEAR HH:MM</td>\n",
              "      <td>m</td>\n",
              "      <td>tonnes</td>\n",
              "      <td>m</td>\n",
              "      <td>m/min</td>\n",
              "      <td>tonnes</td>\n",
              "      <td>KNm</td>\n",
              "      <td>m</td>\n",
              "      <td>nan</td>\n",
              "      <td>Kg/cm2</td>\n",
              "      <td>...</td>\n",
              "      <td>m3</td>\n",
              "      <td>m3</td>\n",
              "      <td>%</td>\n",
              "      <td>%</td>\n",
              "      <td>%</td>\n",
              "      <td>%</td>\n",
              "      <td>%</td>\n",
              "      <td>%</td>\n",
              "      <td>%</td>\n",
              "      <td>%</td>\n",
              "    </tr>\n",
              "    <tr>\n",
              "      <th>1</th>\n",
              "      <td>Dec 22 2020 20:00</td>\n",
              "      <td>3141.7</td>\n",
              "      <td>NAN</td>\n",
              "      <td>2.02</td>\n",
              "      <td>NAN</td>\n",
              "      <td>NAN</td>\n",
              "      <td>NAN</td>\n",
              "      <td>207.84</td>\n",
              "      <td>NAN</td>\n",
              "      <td>NAN</td>\n",
              "      <td>...</td>\n",
              "      <td>NAN</td>\n",
              "      <td>4.667</td>\n",
              "      <td>NAN</td>\n",
              "      <td>NAN</td>\n",
              "      <td>NAN</td>\n",
              "      <td>NAN</td>\n",
              "      <td>NAN</td>\n",
              "      <td>NAN</td>\n",
              "      <td>NAN</td>\n",
              "      <td>NAN</td>\n",
              "    </tr>\n",
              "    <tr>\n",
              "      <th>2</th>\n",
              "      <td>Dec 22 2020 20:00</td>\n",
              "      <td>3141.7</td>\n",
              "      <td>NAN</td>\n",
              "      <td>2.02</td>\n",
              "      <td>NAN</td>\n",
              "      <td>NAN</td>\n",
              "      <td>NAN</td>\n",
              "      <td>207.84</td>\n",
              "      <td>NAN</td>\n",
              "      <td>NAN</td>\n",
              "      <td>...</td>\n",
              "      <td>NAN</td>\n",
              "      <td>4.662</td>\n",
              "      <td>NAN</td>\n",
              "      <td>NAN</td>\n",
              "      <td>NAN</td>\n",
              "      <td>NAN</td>\n",
              "      <td>NAN</td>\n",
              "      <td>NAN</td>\n",
              "      <td>NAN</td>\n",
              "      <td>NAN</td>\n",
              "    </tr>\n",
              "  </tbody>\n",
              "</table>\n",
              "<p>3 rows × 37 columns</p>\n",
              "</div>\n",
              "      <button class=\"colab-df-convert\" onclick=\"convertToInteractive('df-3c098f46-5a65-4693-b85b-bb59b8a26382')\"\n",
              "              title=\"Convert this dataframe to an interactive table.\"\n",
              "              style=\"display:none;\">\n",
              "        \n",
              "  <svg xmlns=\"http://www.w3.org/2000/svg\" height=\"24px\"viewBox=\"0 0 24 24\"\n",
              "       width=\"24px\">\n",
              "    <path d=\"M0 0h24v24H0V0z\" fill=\"none\"/>\n",
              "    <path d=\"M18.56 5.44l.94 2.06.94-2.06 2.06-.94-2.06-.94-.94-2.06-.94 2.06-2.06.94zm-11 1L8.5 8.5l.94-2.06 2.06-.94-2.06-.94L8.5 2.5l-.94 2.06-2.06.94zm10 10l.94 2.06.94-2.06 2.06-.94-2.06-.94-.94-2.06-.94 2.06-2.06.94z\"/><path d=\"M17.41 7.96l-1.37-1.37c-.4-.4-.92-.59-1.43-.59-.52 0-1.04.2-1.43.59L10.3 9.45l-7.72 7.72c-.78.78-.78 2.05 0 2.83L4 21.41c.39.39.9.59 1.41.59.51 0 1.02-.2 1.41-.59l7.78-7.78 2.81-2.81c.8-.78.8-2.07 0-2.86zM5.41 20L4 18.59l7.72-7.72 1.47 1.35L5.41 20z\"/>\n",
              "  </svg>\n",
              "      </button>\n",
              "      \n",
              "  <style>\n",
              "    .colab-df-container {\n",
              "      display:flex;\n",
              "      flex-wrap:wrap;\n",
              "      gap: 12px;\n",
              "    }\n",
              "\n",
              "    .colab-df-convert {\n",
              "      background-color: #E8F0FE;\n",
              "      border: none;\n",
              "      border-radius: 50%;\n",
              "      cursor: pointer;\n",
              "      display: none;\n",
              "      fill: #1967D2;\n",
              "      height: 32px;\n",
              "      padding: 0 0 0 0;\n",
              "      width: 32px;\n",
              "    }\n",
              "\n",
              "    .colab-df-convert:hover {\n",
              "      background-color: #E2EBFA;\n",
              "      box-shadow: 0px 1px 2px rgba(60, 64, 67, 0.3), 0px 1px 3px 1px rgba(60, 64, 67, 0.15);\n",
              "      fill: #174EA6;\n",
              "    }\n",
              "\n",
              "    [theme=dark] .colab-df-convert {\n",
              "      background-color: #3B4455;\n",
              "      fill: #D2E3FC;\n",
              "    }\n",
              "\n",
              "    [theme=dark] .colab-df-convert:hover {\n",
              "      background-color: #434B5C;\n",
              "      box-shadow: 0px 1px 3px 1px rgba(0, 0, 0, 0.15);\n",
              "      filter: drop-shadow(0px 1px 2px rgba(0, 0, 0, 0.3));\n",
              "      fill: #FFFFFF;\n",
              "    }\n",
              "  </style>\n",
              "\n",
              "      <script>\n",
              "        const buttonEl =\n",
              "          document.querySelector('#df-3c098f46-5a65-4693-b85b-bb59b8a26382 button.colab-df-convert');\n",
              "        buttonEl.style.display =\n",
              "          google.colab.kernel.accessAllowed ? 'block' : 'none';\n",
              "\n",
              "        async function convertToInteractive(key) {\n",
              "          const element = document.querySelector('#df-3c098f46-5a65-4693-b85b-bb59b8a26382');\n",
              "          const dataTable =\n",
              "            await google.colab.kernel.invokeFunction('convertToInteractive',\n",
              "                                                     [key], {});\n",
              "          if (!dataTable) return;\n",
              "\n",
              "          const docLinkHtml = 'Like what you see? Visit the ' +\n",
              "            '<a target=\"_blank\" href=https://colab.research.google.com/notebooks/data_table.ipynb>data table notebook</a>'\n",
              "            + ' to learn more about interactive tables.';\n",
              "          element.innerHTML = '';\n",
              "          dataTable['output_type'] = 'display_data';\n",
              "          await google.colab.output.renderOutput(dataTable, element);\n",
              "          const docLink = document.createElement('div');\n",
              "          docLink.innerHTML = docLinkHtml;\n",
              "          element.appendChild(docLink);\n",
              "        }\n",
              "      </script>\n",
              "    </div>\n",
              "  </div>\n",
              "  "
            ],
            "text/plain": [
              "        Дата и Время Глубина Вес на крюке Высота крюка Скорость СПО  \\\n",
              "0  MON DD YEAR HH:MM       m       tonnes            m        m/min   \n",
              "1  Dec 22 2020 20:00  3141.7          NAN         2.02          NAN   \n",
              "2  Dec 22 2020 20:00  3141.7          NAN         2.02          NAN   \n",
              "\n",
              "  Нагр.на дол Момент на роторе Глубина долота Обороты Давление  ... Pit 8  \\\n",
              "0      tonnes              KNm              m     nan   Kg/cm2  ...    m3   \n",
              "1         NAN              NAN         207.84     NAN      NAN  ...   NAN   \n",
              "2         NAN              NAN         207.84     NAN      NAN  ...   NAN   \n",
              "\n",
              "  Сумм. актив ёмк.   С1   С2   С3  iC4  nC4  iC5  nC5 Сумм.газ.хромат  \n",
              "0               m3    %    %    %    %    %    %    %               %  \n",
              "1            4.667  NAN  NAN  NAN  NAN  NAN  NAN  NAN             NAN  \n",
              "2            4.662  NAN  NAN  NAN  NAN  NAN  NAN  NAN             NAN  \n",
              "\n",
              "[3 rows x 37 columns]"
            ]
          },
          "metadata": {},
          "execution_count": 5
        }
      ]
    },
    {
      "cell_type": "code",
      "source": [
        "unique_meaning = np.unique(df['Дата и Время'])\n",
        "count_all = len(df['Дата и Время'])\n",
        "count_u = len(unique_meaning)\n",
        "min = count_all/60\n",
        "print(count_all)\n",
        "print(count_u)\n",
        "print(min) # Только одно значение должно быть из всего набора строк, то есть заголовок. Убидиться так оно, или нет можно ниже.\n"
      ],
      "metadata": {
        "colab": {
          "base_uri": "https://localhost:8080/"
        },
        "id": "zaZkL7XlHKbS",
        "outputId": "648e39f7-54d4-4d3f-a996-498478212cda"
      },
      "execution_count": 7,
      "outputs": [
        {
          "output_type": "stream",
          "name": "stdout",
          "text": [
            "137578\n",
            "2294\n",
            "2292.9666666666667\n"
          ]
        }
      ]
    },
    {
      "cell_type": "code",
      "source": [
        "counts = df['Дата и Время'].value_counts()\n",
        "print(counts)"
      ],
      "metadata": {
        "colab": {
          "base_uri": "https://localhost:8080/"
        },
        "id": "mra1RhAQxVf1",
        "outputId": "4b22961e-5fb2-4d21-c744-a716fad3ec6d"
      },
      "execution_count": 18,
      "outputs": [
        {
          "output_type": "stream",
          "name": "stdout",
          "text": [
            "Dec 23 2020 15:06    60\n",
            "Dec 23 2020 21:30    60\n",
            "Dec 23 2020 21:24    60\n",
            "Dec 23 2020 21:25    60\n",
            "Dec 23 2020 21:26    60\n",
            "                     ..\n",
            "Dec 23 2020 08:34    60\n",
            "Dec 23 2020 08:33    60\n",
            "Dec 24 2020 10:10    60\n",
            "Dec 24 2020 10:12    57\n",
            "MON DD YEAR HH:MM     1\n",
            "Name: Дата и Время, Length: 2294, dtype: int64\n"
          ]
        }
      ]
    },
    {
      "cell_type": "code",
      "source": [
        "counts = df['Дата и Время'].value_counts()\n",
        "counts[counts!= 60] # Таким образом можно отслеживать, в какой минуте не хватает строк (не все показатели записались посекундно)"
      ],
      "metadata": {
        "colab": {
          "base_uri": "https://localhost:8080/"
        },
        "id": "psfws7l3SIpN",
        "outputId": "873eb140-81bf-4eb6-97ba-39449de26ec0"
      },
      "execution_count": 20,
      "outputs": [
        {
          "output_type": "execute_result",
          "data": {
            "text/plain": [
              "Dec 24 2020 10:12    57\n",
              "MON DD YEAR HH:MM     1\n",
              "Name: Дата и Время, dtype: int64"
            ]
          },
          "metadata": {},
          "execution_count": 20
        }
      ]
    }
  ]
}